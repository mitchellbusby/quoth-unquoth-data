{
 "cells": [
  {
   "cell_type": "markdown",
   "id": "ee7b6fc4",
   "metadata": {},
   "source": [
    "This notebook translates GTFS to JSON that Joey finds useful."
   ]
  },
  {
   "cell_type": "code",
   "execution_count": 1,
   "id": "695a450f",
   "metadata": {},
   "outputs": [],
   "source": [
    "import json\n",
    "\n",
    "import numpy as np\n",
    "import pandas as pd\n",
    "from tqdm.auto import tqdm"
   ]
  },
  {
   "cell_type": "code",
   "execution_count": 3,
   "id": "c4934f26",
   "metadata": {},
   "outputs": [],
   "source": [
    "stop_times = pd.read_csv('../data/gtfs/stop_times.txt')"
   ]
  },
  {
   "cell_type": "code",
   "execution_count": 4,
   "id": "44c9ddce",
   "metadata": {},
   "outputs": [],
   "source": [
    "trips = {}\n",
    "for trip_id, rows in stop_times.groupby('trip_id'):\n",
    "    trips[trip_id] = {\n",
    "        'stops': [int(i) for i in rows.stop_id.values],\n",
    "        'times': [int(i) for i in pd.to_timedelta(rows.departure_time.values).seconds]}\n",
    "    assert len(trips[trip_id]['stops']) == len(trips[trip_id]['times'])"
   ]
  },
  {
   "cell_type": "code",
   "execution_count": null,
   "id": "71036337",
   "metadata": {},
   "outputs": [],
   "source": [
    "with open('../data/stop_times.json', 'w') as f:\n",
    "    json.dump(trips, f)"
   ]
  },
  {
   "cell_type": "code",
   "execution_count": 6,
   "id": "2392214e",
   "metadata": {},
   "outputs": [],
   "source": [
    "stops = pd.read_csv('../data/gtfs/stops.txt')"
   ]
  },
  {
   "cell_type": "code",
   "execution_count": 7,
   "id": "2aeeae80",
   "metadata": {},
   "outputs": [],
   "source": [
    "stops_json = {}\n",
    "for _, row in stops[['stop_id', 'stop_name', 'stop_lat', 'stop_lon']].iterrows():\n",
    "    stops_json[row.stop_id] = {\n",
    "        'name': row.stop_name,\n",
    "        'lat': float(row.stop_lat),\n",
    "        'lon': float(row.stop_lon),\n",
    "    }"
   ]
  },
  {
   "cell_type": "code",
   "execution_count": null,
   "id": "4f1476c3",
   "metadata": {},
   "outputs": [],
   "source": [
    "with open('../data/stops.json', 'w') as f:\n",
    "    json.dump(stops_json, f)"
   ]
  },
  {
   "cell_type": "markdown",
   "id": "3f76a269",
   "metadata": {},
   "source": [
    "By the way, here are the bus counts (old, new, long, blue, pride):"
   ]
  },
  {
   "cell_type": "code",
   "execution_count": 8,
   "id": "10f29583",
   "metadata": {},
   "outputs": [
    {
     "data": {
      "text/plain": [
       "array([0.22738386, 0.63814181, 0.0806846 , 0.04889976, 0.00488998])"
      ]
     },
     "execution_count": 8,
     "metadata": {},
     "output_type": "execute_result"
    }
   ],
   "source": [
    "bus_counts = np.array((93,261,33,20,2))\n",
    "bus_counts / bus_counts.sum()"
   ]
  },
  {
   "cell_type": "markdown",
   "id": "d0a83369",
   "metadata": {},
   "source": [
    "We also need to map trips to routes. We'll produce trip_id -> route_id + direction_id, and also route_id -> direction_id -> headsign."
   ]
  },
  {
   "cell_type": "code",
   "execution_count": 20,
   "id": "30e48396",
   "metadata": {},
   "outputs": [],
   "source": [
    "trips = pd.read_csv('../data/gtfs/trips.txt')"
   ]
  },
  {
   "cell_type": "code",
   "execution_count": 27,
   "id": "8ee7afb7",
   "metadata": {},
   "outputs": [],
   "source": [
    "trip_to_route = {}\n",
    "route_to_headsign = {}\n",
    "for _, trip in trips.iterrows():\n",
    "    route_id = trip.route_id[:-6]  # chop off -10567 as this is always the same\n",
    "    assert trip.route_id[-6:] == '-10567'\n",
    "    trip_to_route[trip.trip_id] = {'route': route_id, 'dir': trip.direction_id}\n",
    "    if route_id in route_to_headsign:\n",
    "        route_to_headsign[route_id][trip.direction_id] = trip.trip_headsign\n",
    "    else:\n",
    "        route_to_headsign[route_id] = {trip.direction_id: trip.trip_headsign}"
   ]
  },
  {
   "cell_type": "code",
   "execution_count": 30,
   "id": "4c5ac4b1",
   "metadata": {},
   "outputs": [],
   "source": [
    "with open('../data/routes.json', 'w') as f:\n",
    "    json.dump({\n",
    "        'trips': trip_to_route,\n",
    "        'routes': route_to_headsign,\n",
    "    }, f)"
   ]
  },
  {
   "cell_type": "code",
   "execution_count": null,
   "id": "d4b1f282",
   "metadata": {},
   "outputs": [],
   "source": []
  }
 ],
 "metadata": {
  "kernelspec": {
   "display_name": "Python 3",
   "language": "python",
   "name": "python3"
  },
  "language_info": {
   "codemirror_mode": {
    "name": "ipython",
    "version": 3
   },
   "file_extension": ".py",
   "mimetype": "text/x-python",
   "name": "python",
   "nbconvert_exporter": "python",
   "pygments_lexer": "ipython3",
   "version": "3.8.8"
  }
 },
 "nbformat": 4,
 "nbformat_minor": 5
}
